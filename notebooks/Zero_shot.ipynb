{
  "cells": [
    {
      "cell_type": "code",
      "execution_count": null,
      "metadata": {
        "colab": {
          "base_uri": "https://localhost:8080/"
        },
        "id": "J8wARJgURFxS",
        "outputId": "5ad0d282-411c-4715-a1c9-3c365e88ecc9"
      },
      "outputs": [
        {
          "output_type": "stream",
          "name": "stdout",
          "text": [
            "\u001b[2K   \u001b[90m━━━━━━━━━━━━━━━━━━━━━━━━━━━━━━━━━━━━━━━━\u001b[0m \u001b[32m72.9/72.9 MB\u001b[0m \u001b[31m10.6 MB/s\u001b[0m eta \u001b[36m0:00:00\u001b[0m\n",
            "\u001b[2K   \u001b[91m━━━━━━━━━━━━━━━━━━━━━━━━━━━━━━━━━━━━━━\u001b[0m\u001b[91m╸\u001b[0m \u001b[32m363.4/363.4 MB\u001b[0m \u001b[31m107.8 MB/s\u001b[0m eta \u001b[36m0:00:01\u001b[0m"
          ]
        }
      ],
      "source": [
        "!pip install -q transformers datasets peft accelerate bitsandbytes pandas openpyxl"
      ]
    },
    {
      "cell_type": "code",
      "execution_count": null,
      "metadata": {
        "id": "oRuhurS-RY8P"
      },
      "outputs": [],
      "source": [
        "# 🧠 Step 1: Load Qwen3-4B from Hugging Face load locally\n",
        "\n",
        "from transformers import AutoModelForCausalLM, AutoTokenizer, pipeline\n",
        "import torch\n",
        "from sklearn.preprocessing import MultiLabelBinarizer\n",
        "from sklearn.metrics import precision_score, recall_score, f1_score, jaccard_score\n"
      ]
    },
    {
      "cell_type": "code",
      "execution_count": null,
      "metadata": {
        "id": "-dukYtTGRcZM"
      },
      "outputs": [],
      "source": [
        "#Step2. load model\n",
        "model_id = \"Qwen/Qwen3-4B\"\n",
        "\n",
        "tokenizer = AutoTokenizer.from_pretrained(model_id, trust_remote_code=True)\n",
        "model = AutoModelForCausalLM.from_pretrained(model_id,\n",
        "    # load_in_8bit=True,\n",
        "    device_map=\"auto\",\n",
        "    torch_dtype=torch.float16,\n",
        "    trust_remote_code=True\n",
        ")\n",
        "\n",
        "pipe = pipeline(\"text-generation\", model=model, tokenizer=tokenizer)\n",
        "\n",
        "print(\"✅ Model and tokenizer loaded successfully.\")\n",
        "\n"
      ]
    },
    {
      "cell_type": "code",
      "execution_count": null,
      "metadata": {
        "id": "MMJU7alepyLU"
      },
      "outputs": [],
      "source": [
        "# 🧾 Step 3: Define the prompt template\n",
        "\n",
        "def build_prompt(input_finding):\n",
        "#    return f\"\"\"\n",
        "#Your task is to extract disease and abnormal findings from the following radiology report.\n",
        "    return f\"\"\"You are a clinical AI assistant. Extract only the confirmed or highly suspected disease names from this radiology report.\n",
        "\n",
        "Instructions:\n",
        "- Do not include any explanation, reasoning, or additional text.\n",
        "- Return only the disease names, separated by commas.\n",
        "- Use standard medical terminology.\n",
        "- Be precise and avoid speculation.\n",
        "- Do not duplicate disease names.\n",
        "- If no diseases are found, output: No significant findings.\n",
        "\n",
        "Now analyze this radiology report:\n",
        "{input_finding}\n",
        "\n",
        "output_disease\\n\"\"\"\n",
        "\n"
      ]
    },
    {
      "cell_type": "code",
      "execution_count": null,
      "metadata": {
        "id": "d-0eeta-R3Wn"
      },
      "outputs": [],
      "source": [
        "# 🧼 Step 4: Clean and parse output\n",
        "\n",
        "def parse_labels(output_string, delimiter=\"output_disease\"):\n",
        "    \"\"\"\n",
        "    Extracts a list of disease/abnormality labels from the model's raw output.\n",
        "\n",
        "    - Splits on the given delimiter (e.g. \"output_disease\")\n",
        "    - Detects whether the body is comma-separated or bullet-list\n",
        "    - Cleans up whitespace and leading bullets/hyphens\n",
        "    - PRESERVES all entries (no deduplication)\n",
        "    \"\"\"\n",
        "    # 1) Isolate the part after your delimiter\n",
        "    try:\n",
        "        body = output_string.split(delimiter, 1)[1]\n",
        "    except IndexError:\n",
        "        body = output_string\n",
        "\n",
        "    # 2) Trim whitespace\n",
        "    body = body.strip()\n",
        "\n",
        "    labels = []\n",
        "    # 3a) If there's a comma on the first line, treat as comma-separated\n",
        "    first_line = body.splitlines()[0]\n",
        "    if \",\" in first_line:\n",
        "        parts = [p.strip() for p in first_line.split(\",\")]\n",
        "        labels = [p for p in parts if p]\n",
        "\n",
        "    # 3b) Otherwise, one-item-per-line list\n",
        "    else:\n",
        "        for line in body.splitlines():\n",
        "            clean = line.strip()\n",
        "            if not clean:\n",
        "                continue\n",
        "            # remove leading bullets or hyphens\n",
        "            clean = re.sub(r\"^[\\-\\u2022]\\s*\", \"\", clean)\n",
        "            # split if there are commas in a bullet\n",
        "            for part in clean.split(\",\"):\n",
        "                part = part.strip()\n",
        "                if part:\n",
        "                    labels.append(part)\n"
      ]
    },
    {
      "cell_type": "code",
      "execution_count": null,
      "metadata": {
        "id": "S2W_VMdBR5fm"
      },
      "outputs": [],
      "source": [
        "# 🧪 Step 5: Example inference\n",
        "example_input = \"\"\"The liver is normal in size and shape with homogeneous density. A patchy low-density lesion is seen around the liver fissure. The intrahepatic duct system is not obviously dilated, and the course is normal. The gallbladder is not enlarged, with no obvious thickening of the wall, and no clearly abnormal density foci are seen inside. The spleen is normal in size and shape with homogeneous density, and some punctate low-density foci are seen inside. The pancreas is normal in size and shape with homogeneous density, and no clearly abnormal density foci are seen inside. The main pancreatic duct is not obviously dilated, and the peripancreatic fat space is clear. Both kidneys are normal in size and shape with homogeneous density. A round low-density lesion is seen in the right kidney with a diameter of about 16mm. The left adrenal gland is thickened, and a punctate high-density lesion is seen in the right adrenal gland. The renal pelvis-calyx system is not obviously dilated. The perirenal fat space is clear, and no clearly abnormal density foci are seen. No enlarged lymph nodes are seen in the retroperitoneum.\"\"\"\n",
        "expected_output = [\"renal cyst\", \"adrenal hyperplasia\", \"adrenal calcification\"]\n",
        "\n",
        "prompt = build_prompt(example_input)\n",
        "response = pipe(prompt, max_new_tokens=32, do_sample=False)[0][\"generated_text\"]\n",
        "prediction = parse_labels(response, delimiter=\"output_disease\")\n",
        "print(\"🧠 Predicted:\", prediction)\n",
        "\n",
        "print(\"\\n \\n \\n full responce: \\n\", response)\n"
      ]
    },
    {
      "cell_type": "code",
      "execution_count": null,
      "metadata": {
        "id": "HrUVeoaHR-Ud"
      },
      "outputs": [],
      "source": [
        "# 🧮 Step 6: Metric calculation\n",
        "\n",
        "def compute_metrics(preds, targets):\n",
        "    # preds, targets: lists of label‐lists\n",
        "    mlb = MultiLabelBinarizer()\n",
        "    mlb.fit(preds + targets)  # <<< fit on all individual lists\n",
        "\n",
        "    y_pred = mlb.transform(preds)\n",
        "    y_true = mlb.transform(targets)\n",
        "\n",
        "    return {\n",
        "        \"precision\": precision_score(y_true, y_pred, average='micro', zero_division=0),\n",
        "        \"recall\":    recall_score(y_true, y_pred, average='micro', zero_division=0),\n",
        "        \"f1_micro\":  f1_score(y_true, y_pred, average='micro', zero_division=0),\n",
        "        \"jaccard\":   jaccard_score(y_true, y_pred, average='samples', zero_division=0).item(),\n",
        "    }\n",
        "\n",
        "# Parse into a list\n",
        "pred_labels = parse_labels(response, delimiter=\"output_disease\")\n",
        "pred_labels=[lbl.lower() for lbl in pred_labels]\n",
        "\n",
        "\n",
        "# Prepare ground truth\n",
        "true_labels = [lbl.strip().lower() for lbl in expected_output]\n",
        "\n",
        "# Compute metrics\n",
        "metrics = compute_metrics([pred_labels], [true_labels])\n",
        "print(\"📊 Evaluation:\", metrics)\n"
      ]
    },
    {
      "cell_type": "code",
      "execution_count": null,
      "metadata": {
        "id": "C_bhINGCSNwD"
      },
      "outputs": [],
      "source": []
    }
  ],
  "metadata": {
    "colab": {
      "provenance": []
    },
    "kernelspec": {
      "display_name": "Python 3",
      "name": "python3"
    },
    "language_info": {
      "name": "python"
    }
  },
  "nbformat": 4,
  "nbformat_minor": 0
}