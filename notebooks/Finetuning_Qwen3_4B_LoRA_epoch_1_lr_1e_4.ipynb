{
  "nbformat": 4,
  "nbformat_minor": 0,
  "metadata": {
    "colab": {
      "provenance": [],
      "gpuType": "A100",
      "machine_shape": "hm"
    },
    "kernelspec": {
      "name": "python3",
      "display_name": "Python 3"
    },
    "language_info": {
      "name": "python"
    },
    "accelerator": "GPU",
    "widgets": {
      "application/vnd.jupyter.widget-state+json": {
        "e39851faeede47e1bcd42058e675bcfc": {
          "model_module": "@jupyter-widgets/controls",
          "model_name": "HBoxModel",
          "model_module_version": "1.5.0",
          "state": {
            "_dom_classes": [],
            "_model_module": "@jupyter-widgets/controls",
            "_model_module_version": "1.5.0",
            "_model_name": "HBoxModel",
            "_view_count": null,
            "_view_module": "@jupyter-widgets/controls",
            "_view_module_version": "1.5.0",
            "_view_name": "HBoxView",
            "box_style": "",
            "children": [
              "IPY_MODEL_851f9241c5b6430cb323583851a41593",
              "IPY_MODEL_fececbd4bf964678a944e2f0751a87ed",
              "IPY_MODEL_a2e54e80028e4554962f267c709e5c1a"
            ],
            "layout": "IPY_MODEL_bd05081e69eb4bb18ff55b0578883477"
          }
        },
        "851f9241c5b6430cb323583851a41593": {
          "model_module": "@jupyter-widgets/controls",
          "model_name": "HTMLModel",
          "model_module_version": "1.5.0",
          "state": {
            "_dom_classes": [],
            "_model_module": "@jupyter-widgets/controls",
            "_model_module_version": "1.5.0",
            "_model_name": "HTMLModel",
            "_view_count": null,
            "_view_module": "@jupyter-widgets/controls",
            "_view_module_version": "1.5.0",
            "_view_name": "HTMLView",
            "description": "",
            "description_tooltip": null,
            "layout": "IPY_MODEL_a906050348e54726be0eea3cdb94a2ea",
            "placeholder": "​",
            "style": "IPY_MODEL_6c8882251ed0469da647119f29748532",
            "value": "Map: 100%"
          }
        },
        "fececbd4bf964678a944e2f0751a87ed": {
          "model_module": "@jupyter-widgets/controls",
          "model_name": "FloatProgressModel",
          "model_module_version": "1.5.0",
          "state": {
            "_dom_classes": [],
            "_model_module": "@jupyter-widgets/controls",
            "_model_module_version": "1.5.0",
            "_model_name": "FloatProgressModel",
            "_view_count": null,
            "_view_module": "@jupyter-widgets/controls",
            "_view_module_version": "1.5.0",
            "_view_name": "ProgressView",
            "bar_style": "success",
            "description": "",
            "description_tooltip": null,
            "layout": "IPY_MODEL_09b74b9c6830462a9213978b85dd99e2",
            "max": 1236,
            "min": 0,
            "orientation": "horizontal",
            "style": "IPY_MODEL_062674a70a924927bc44f941bc36d470",
            "value": 1236
          }
        },
        "a2e54e80028e4554962f267c709e5c1a": {
          "model_module": "@jupyter-widgets/controls",
          "model_name": "HTMLModel",
          "model_module_version": "1.5.0",
          "state": {
            "_dom_classes": [],
            "_model_module": "@jupyter-widgets/controls",
            "_model_module_version": "1.5.0",
            "_model_name": "HTMLModel",
            "_view_count": null,
            "_view_module": "@jupyter-widgets/controls",
            "_view_module_version": "1.5.0",
            "_view_name": "HTMLView",
            "description": "",
            "description_tooltip": null,
            "layout": "IPY_MODEL_bd1d34483757438bb439c4af2ca93d3b",
            "placeholder": "​",
            "style": "IPY_MODEL_826a22253bbd4a3aa7f7f5212d61fe96",
            "value": " 1236/1236 [00:00&lt;00:00, 1349.78 examples/s]"
          }
        },
        "bd05081e69eb4bb18ff55b0578883477": {
          "model_module": "@jupyter-widgets/base",
          "model_name": "LayoutModel",
          "model_module_version": "1.2.0",
          "state": {
            "_model_module": "@jupyter-widgets/base",
            "_model_module_version": "1.2.0",
            "_model_name": "LayoutModel",
            "_view_count": null,
            "_view_module": "@jupyter-widgets/base",
            "_view_module_version": "1.2.0",
            "_view_name": "LayoutView",
            "align_content": null,
            "align_items": null,
            "align_self": null,
            "border": null,
            "bottom": null,
            "display": null,
            "flex": null,
            "flex_flow": null,
            "grid_area": null,
            "grid_auto_columns": null,
            "grid_auto_flow": null,
            "grid_auto_rows": null,
            "grid_column": null,
            "grid_gap": null,
            "grid_row": null,
            "grid_template_areas": null,
            "grid_template_columns": null,
            "grid_template_rows": null,
            "height": null,
            "justify_content": null,
            "justify_items": null,
            "left": null,
            "margin": null,
            "max_height": null,
            "max_width": null,
            "min_height": null,
            "min_width": null,
            "object_fit": null,
            "object_position": null,
            "order": null,
            "overflow": null,
            "overflow_x": null,
            "overflow_y": null,
            "padding": null,
            "right": null,
            "top": null,
            "visibility": null,
            "width": null
          }
        },
        "a906050348e54726be0eea3cdb94a2ea": {
          "model_module": "@jupyter-widgets/base",
          "model_name": "LayoutModel",
          "model_module_version": "1.2.0",
          "state": {
            "_model_module": "@jupyter-widgets/base",
            "_model_module_version": "1.2.0",
            "_model_name": "LayoutModel",
            "_view_count": null,
            "_view_module": "@jupyter-widgets/base",
            "_view_module_version": "1.2.0",
            "_view_name": "LayoutView",
            "align_content": null,
            "align_items": null,
            "align_self": null,
            "border": null,
            "bottom": null,
            "display": null,
            "flex": null,
            "flex_flow": null,
            "grid_area": null,
            "grid_auto_columns": null,
            "grid_auto_flow": null,
            "grid_auto_rows": null,
            "grid_column": null,
            "grid_gap": null,
            "grid_row": null,
            "grid_template_areas": null,
            "grid_template_columns": null,
            "grid_template_rows": null,
            "height": null,
            "justify_content": null,
            "justify_items": null,
            "left": null,
            "margin": null,
            "max_height": null,
            "max_width": null,
            "min_height": null,
            "min_width": null,
            "object_fit": null,
            "object_position": null,
            "order": null,
            "overflow": null,
            "overflow_x": null,
            "overflow_y": null,
            "padding": null,
            "right": null,
            "top": null,
            "visibility": null,
            "width": null
          }
        },
        "6c8882251ed0469da647119f29748532": {
          "model_module": "@jupyter-widgets/controls",
          "model_name": "DescriptionStyleModel",
          "model_module_version": "1.5.0",
          "state": {
            "_model_module": "@jupyter-widgets/controls",
            "_model_module_version": "1.5.0",
            "_model_name": "DescriptionStyleModel",
            "_view_count": null,
            "_view_module": "@jupyter-widgets/base",
            "_view_module_version": "1.2.0",
            "_view_name": "StyleView",
            "description_width": ""
          }
        },
        "09b74b9c6830462a9213978b85dd99e2": {
          "model_module": "@jupyter-widgets/base",
          "model_name": "LayoutModel",
          "model_module_version": "1.2.0",
          "state": {
            "_model_module": "@jupyter-widgets/base",
            "_model_module_version": "1.2.0",
            "_model_name": "LayoutModel",
            "_view_count": null,
            "_view_module": "@jupyter-widgets/base",
            "_view_module_version": "1.2.0",
            "_view_name": "LayoutView",
            "align_content": null,
            "align_items": null,
            "align_self": null,
            "border": null,
            "bottom": null,
            "display": null,
            "flex": null,
            "flex_flow": null,
            "grid_area": null,
            "grid_auto_columns": null,
            "grid_auto_flow": null,
            "grid_auto_rows": null,
            "grid_column": null,
            "grid_gap": null,
            "grid_row": null,
            "grid_template_areas": null,
            "grid_template_columns": null,
            "grid_template_rows": null,
            "height": null,
            "justify_content": null,
            "justify_items": null,
            "left": null,
            "margin": null,
            "max_height": null,
            "max_width": null,
            "min_height": null,
            "min_width": null,
            "object_fit": null,
            "object_position": null,
            "order": null,
            "overflow": null,
            "overflow_x": null,
            "overflow_y": null,
            "padding": null,
            "right": null,
            "top": null,
            "visibility": null,
            "width": null
          }
        },
        "062674a70a924927bc44f941bc36d470": {
          "model_module": "@jupyter-widgets/controls",
          "model_name": "ProgressStyleModel",
          "model_module_version": "1.5.0",
          "state": {
            "_model_module": "@jupyter-widgets/controls",
            "_model_module_version": "1.5.0",
            "_model_name": "ProgressStyleModel",
            "_view_count": null,
            "_view_module": "@jupyter-widgets/base",
            "_view_module_version": "1.2.0",
            "_view_name": "StyleView",
            "bar_color": null,
            "description_width": ""
          }
        },
        "bd1d34483757438bb439c4af2ca93d3b": {
          "model_module": "@jupyter-widgets/base",
          "model_name": "LayoutModel",
          "model_module_version": "1.2.0",
          "state": {
            "_model_module": "@jupyter-widgets/base",
            "_model_module_version": "1.2.0",
            "_model_name": "LayoutModel",
            "_view_count": null,
            "_view_module": "@jupyter-widgets/base",
            "_view_module_version": "1.2.0",
            "_view_name": "LayoutView",
            "align_content": null,
            "align_items": null,
            "align_self": null,
            "border": null,
            "bottom": null,
            "display": null,
            "flex": null,
            "flex_flow": null,
            "grid_area": null,
            "grid_auto_columns": null,
            "grid_auto_flow": null,
            "grid_auto_rows": null,
            "grid_column": null,
            "grid_gap": null,
            "grid_row": null,
            "grid_template_areas": null,
            "grid_template_columns": null,
            "grid_template_rows": null,
            "height": null,
            "justify_content": null,
            "justify_items": null,
            "left": null,
            "margin": null,
            "max_height": null,
            "max_width": null,
            "min_height": null,
            "min_width": null,
            "object_fit": null,
            "object_position": null,
            "order": null,
            "overflow": null,
            "overflow_x": null,
            "overflow_y": null,
            "padding": null,
            "right": null,
            "top": null,
            "visibility": null,
            "width": null
          }
        },
        "826a22253bbd4a3aa7f7f5212d61fe96": {
          "model_module": "@jupyter-widgets/controls",
          "model_name": "DescriptionStyleModel",
          "model_module_version": "1.5.0",
          "state": {
            "_model_module": "@jupyter-widgets/controls",
            "_model_module_version": "1.5.0",
            "_model_name": "DescriptionStyleModel",
            "_view_count": null,
            "_view_module": "@jupyter-widgets/base",
            "_view_module_version": "1.2.0",
            "_view_name": "StyleView",
            "description_width": ""
          }
        },
        "f807ce16ba4948c0b4acac0f179976c3": {
          "model_module": "@jupyter-widgets/controls",
          "model_name": "HBoxModel",
          "model_module_version": "1.5.0",
          "state": {
            "_dom_classes": [],
            "_model_module": "@jupyter-widgets/controls",
            "_model_module_version": "1.5.0",
            "_model_name": "HBoxModel",
            "_view_count": null,
            "_view_module": "@jupyter-widgets/controls",
            "_view_module_version": "1.5.0",
            "_view_name": "HBoxView",
            "box_style": "",
            "children": [
              "IPY_MODEL_0a6117d920ee49f39257d9e6658168fd",
              "IPY_MODEL_5eff736103254101a962c56daa436ec1",
              "IPY_MODEL_2b64717883174cba9ce9e7bb628710be"
            ],
            "layout": "IPY_MODEL_bedaa3fb672e401da656e70811d4b1e8"
          }
        },
        "0a6117d920ee49f39257d9e6658168fd": {
          "model_module": "@jupyter-widgets/controls",
          "model_name": "HTMLModel",
          "model_module_version": "1.5.0",
          "state": {
            "_dom_classes": [],
            "_model_module": "@jupyter-widgets/controls",
            "_model_module_version": "1.5.0",
            "_model_name": "HTMLModel",
            "_view_count": null,
            "_view_module": "@jupyter-widgets/controls",
            "_view_module_version": "1.5.0",
            "_view_name": "HTMLView",
            "description": "",
            "description_tooltip": null,
            "layout": "IPY_MODEL_7d5bd3fe6d5445ca856dd62db8bb859d",
            "placeholder": "​",
            "style": "IPY_MODEL_47127265c46d4772921652cfad307f47",
            "value": "Map: 100%"
          }
        },
        "5eff736103254101a962c56daa436ec1": {
          "model_module": "@jupyter-widgets/controls",
          "model_name": "FloatProgressModel",
          "model_module_version": "1.5.0",
          "state": {
            "_dom_classes": [],
            "_model_module": "@jupyter-widgets/controls",
            "_model_module_version": "1.5.0",
            "_model_name": "FloatProgressModel",
            "_view_count": null,
            "_view_module": "@jupyter-widgets/controls",
            "_view_module_version": "1.5.0",
            "_view_name": "ProgressView",
            "bar_style": "success",
            "description": "",
            "description_tooltip": null,
            "layout": "IPY_MODEL_523903f127a74b42be2983dc9d2fe1d2",
            "max": 386,
            "min": 0,
            "orientation": "horizontal",
            "style": "IPY_MODEL_c3583896e4174777a74029efcf7e3c27",
            "value": 386
          }
        },
        "2b64717883174cba9ce9e7bb628710be": {
          "model_module": "@jupyter-widgets/controls",
          "model_name": "HTMLModel",
          "model_module_version": "1.5.0",
          "state": {
            "_dom_classes": [],
            "_model_module": "@jupyter-widgets/controls",
            "_model_module_version": "1.5.0",
            "_model_name": "HTMLModel",
            "_view_count": null,
            "_view_module": "@jupyter-widgets/controls",
            "_view_module_version": "1.5.0",
            "_view_name": "HTMLView",
            "description": "",
            "description_tooltip": null,
            "layout": "IPY_MODEL_aaa25c7d5a87421eb87aee96303d7f2d",
            "placeholder": "​",
            "style": "IPY_MODEL_1a48857242564ce5a69867b813809f51",
            "value": " 386/386 [00:00&lt;00:00, 1519.09 examples/s]"
          }
        },
        "bedaa3fb672e401da656e70811d4b1e8": {
          "model_module": "@jupyter-widgets/base",
          "model_name": "LayoutModel",
          "model_module_version": "1.2.0",
          "state": {
            "_model_module": "@jupyter-widgets/base",
            "_model_module_version": "1.2.0",
            "_model_name": "LayoutModel",
            "_view_count": null,
            "_view_module": "@jupyter-widgets/base",
            "_view_module_version": "1.2.0",
            "_view_name": "LayoutView",
            "align_content": null,
            "align_items": null,
            "align_self": null,
            "border": null,
            "bottom": null,
            "display": null,
            "flex": null,
            "flex_flow": null,
            "grid_area": null,
            "grid_auto_columns": null,
            "grid_auto_flow": null,
            "grid_auto_rows": null,
            "grid_column": null,
            "grid_gap": null,
            "grid_row": null,
            "grid_template_areas": null,
            "grid_template_columns": null,
            "grid_template_rows": null,
            "height": null,
            "justify_content": null,
            "justify_items": null,
            "left": null,
            "margin": null,
            "max_height": null,
            "max_width": null,
            "min_height": null,
            "min_width": null,
            "object_fit": null,
            "object_position": null,
            "order": null,
            "overflow": null,
            "overflow_x": null,
            "overflow_y": null,
            "padding": null,
            "right": null,
            "top": null,
            "visibility": null,
            "width": null
          }
        },
        "7d5bd3fe6d5445ca856dd62db8bb859d": {
          "model_module": "@jupyter-widgets/base",
          "model_name": "LayoutModel",
          "model_module_version": "1.2.0",
          "state": {
            "_model_module": "@jupyter-widgets/base",
            "_model_module_version": "1.2.0",
            "_model_name": "LayoutModel",
            "_view_count": null,
            "_view_module": "@jupyter-widgets/base",
            "_view_module_version": "1.2.0",
            "_view_name": "LayoutView",
            "align_content": null,
            "align_items": null,
            "align_self": null,
            "border": null,
            "bottom": null,
            "display": null,
            "flex": null,
            "flex_flow": null,
            "grid_area": null,
            "grid_auto_columns": null,
            "grid_auto_flow": null,
            "grid_auto_rows": null,
            "grid_column": null,
            "grid_gap": null,
            "grid_row": null,
            "grid_template_areas": null,
            "grid_template_columns": null,
            "grid_template_rows": null,
            "height": null,
            "justify_content": null,
            "justify_items": null,
            "left": null,
            "margin": null,
            "max_height": null,
            "max_width": null,
            "min_height": null,
            "min_width": null,
            "object_fit": null,
            "object_position": null,
            "order": null,
            "overflow": null,
            "overflow_x": null,
            "overflow_y": null,
            "padding": null,
            "right": null,
            "top": null,
            "visibility": null,
            "width": null
          }
        },
        "47127265c46d4772921652cfad307f47": {
          "model_module": "@jupyter-widgets/controls",
          "model_name": "DescriptionStyleModel",
          "model_module_version": "1.5.0",
          "state": {
            "_model_module": "@jupyter-widgets/controls",
            "_model_module_version": "1.5.0",
            "_model_name": "DescriptionStyleModel",
            "_view_count": null,
            "_view_module": "@jupyter-widgets/base",
            "_view_module_version": "1.2.0",
            "_view_name": "StyleView",
            "description_width": ""
          }
        },
        "523903f127a74b42be2983dc9d2fe1d2": {
          "model_module": "@jupyter-widgets/base",
          "model_name": "LayoutModel",
          "model_module_version": "1.2.0",
          "state": {
            "_model_module": "@jupyter-widgets/base",
            "_model_module_version": "1.2.0",
            "_model_name": "LayoutModel",
            "_view_count": null,
            "_view_module": "@jupyter-widgets/base",
            "_view_module_version": "1.2.0",
            "_view_name": "LayoutView",
            "align_content": null,
            "align_items": null,
            "align_self": null,
            "border": null,
            "bottom": null,
            "display": null,
            "flex": null,
            "flex_flow": null,
            "grid_area": null,
            "grid_auto_columns": null,
            "grid_auto_flow": null,
            "grid_auto_rows": null,
            "grid_column": null,
            "grid_gap": null,
            "grid_row": null,
            "grid_template_areas": null,
            "grid_template_columns": null,
            "grid_template_rows": null,
            "height": null,
            "justify_content": null,
            "justify_items": null,
            "left": null,
            "margin": null,
            "max_height": null,
            "max_width": null,
            "min_height": null,
            "min_width": null,
            "object_fit": null,
            "object_position": null,
            "order": null,
            "overflow": null,
            "overflow_x": null,
            "overflow_y": null,
            "padding": null,
            "right": null,
            "top": null,
            "visibility": null,
            "width": null
          }
        },
        "c3583896e4174777a74029efcf7e3c27": {
          "model_module": "@jupyter-widgets/controls",
          "model_name": "ProgressStyleModel",
          "model_module_version": "1.5.0",
          "state": {
            "_model_module": "@jupyter-widgets/controls",
            "_model_module_version": "1.5.0",
            "_model_name": "ProgressStyleModel",
            "_view_count": null,
            "_view_module": "@jupyter-widgets/base",
            "_view_module_version": "1.2.0",
            "_view_name": "StyleView",
            "bar_color": null,
            "description_width": ""
          }
        },
        "aaa25c7d5a87421eb87aee96303d7f2d": {
          "model_module": "@jupyter-widgets/base",
          "model_name": "LayoutModel",
          "model_module_version": "1.2.0",
          "state": {
            "_model_module": "@jupyter-widgets/base",
            "_model_module_version": "1.2.0",
            "_model_name": "LayoutModel",
            "_view_count": null,
            "_view_module": "@jupyter-widgets/base",
            "_view_module_version": "1.2.0",
            "_view_name": "LayoutView",
            "align_content": null,
            "align_items": null,
            "align_self": null,
            "border": null,
            "bottom": null,
            "display": null,
            "flex": null,
            "flex_flow": null,
            "grid_area": null,
            "grid_auto_columns": null,
            "grid_auto_flow": null,
            "grid_auto_rows": null,
            "grid_column": null,
            "grid_gap": null,
            "grid_row": null,
            "grid_template_areas": null,
            "grid_template_columns": null,
            "grid_template_rows": null,
            "height": null,
            "justify_content": null,
            "justify_items": null,
            "left": null,
            "margin": null,
            "max_height": null,
            "max_width": null,
            "min_height": null,
            "min_width": null,
            "object_fit": null,
            "object_position": null,
            "order": null,
            "overflow": null,
            "overflow_x": null,
            "overflow_y": null,
            "padding": null,
            "right": null,
            "top": null,
            "visibility": null,
            "width": null
          }
        },
        "1a48857242564ce5a69867b813809f51": {
          "model_module": "@jupyter-widgets/controls",
          "model_name": "DescriptionStyleModel",
          "model_module_version": "1.5.0",
          "state": {
            "_model_module": "@jupyter-widgets/controls",
            "_model_module_version": "1.5.0",
            "_model_name": "DescriptionStyleModel",
            "_view_count": null,
            "_view_module": "@jupyter-widgets/base",
            "_view_module_version": "1.2.0",
            "_view_name": "StyleView",
            "description_width": ""
          }
        },
        "a6001125278a4efdb88936069d193488": {
          "model_module": "@jupyter-widgets/controls",
          "model_name": "HBoxModel",
          "model_module_version": "1.5.0",
          "state": {
            "_dom_classes": [],
            "_model_module": "@jupyter-widgets/controls",
            "_model_module_version": "1.5.0",
            "_model_name": "HBoxModel",
            "_view_count": null,
            "_view_module": "@jupyter-widgets/controls",
            "_view_module_version": "1.5.0",
            "_view_name": "HBoxView",
            "box_style": "",
            "children": [
              "IPY_MODEL_00bec8f6ab9045e5a9eda37f1a0c1e9e",
              "IPY_MODEL_61099e13a5ee4335a9f54d2d42d3cce7",
              "IPY_MODEL_c012529d89a84d13b40e2a1699896b05"
            ],
            "layout": "IPY_MODEL_d70d0fac7d0c4705a3fecf3fa958f335"
          }
        },
        "00bec8f6ab9045e5a9eda37f1a0c1e9e": {
          "model_module": "@jupyter-widgets/controls",
          "model_name": "HTMLModel",
          "model_module_version": "1.5.0",
          "state": {
            "_dom_classes": [],
            "_model_module": "@jupyter-widgets/controls",
            "_model_module_version": "1.5.0",
            "_model_name": "HTMLModel",
            "_view_count": null,
            "_view_module": "@jupyter-widgets/controls",
            "_view_module_version": "1.5.0",
            "_view_name": "HTMLView",
            "description": "",
            "description_tooltip": null,
            "layout": "IPY_MODEL_cbf9989693754c6c80bad670d3da5559",
            "placeholder": "​",
            "style": "IPY_MODEL_4599ef8a0bc942bc99d4822765346f8f",
            "value": "Loading checkpoint shards: 100%"
          }
        },
        "61099e13a5ee4335a9f54d2d42d3cce7": {
          "model_module": "@jupyter-widgets/controls",
          "model_name": "FloatProgressModel",
          "model_module_version": "1.5.0",
          "state": {
            "_dom_classes": [],
            "_model_module": "@jupyter-widgets/controls",
            "_model_module_version": "1.5.0",
            "_model_name": "FloatProgressModel",
            "_view_count": null,
            "_view_module": "@jupyter-widgets/controls",
            "_view_module_version": "1.5.0",
            "_view_name": "ProgressView",
            "bar_style": "success",
            "description": "",
            "description_tooltip": null,
            "layout": "IPY_MODEL_8594ced99f354ab18172cde78250b2b8",
            "max": 3,
            "min": 0,
            "orientation": "horizontal",
            "style": "IPY_MODEL_dbd913a86e214a25b0aa6ffd10979209",
            "value": 3
          }
        },
        "c012529d89a84d13b40e2a1699896b05": {
          "model_module": "@jupyter-widgets/controls",
          "model_name": "HTMLModel",
          "model_module_version": "1.5.0",
          "state": {
            "_dom_classes": [],
            "_model_module": "@jupyter-widgets/controls",
            "_model_module_version": "1.5.0",
            "_model_name": "HTMLModel",
            "_view_count": null,
            "_view_module": "@jupyter-widgets/controls",
            "_view_module_version": "1.5.0",
            "_view_name": "HTMLView",
            "description": "",
            "description_tooltip": null,
            "layout": "IPY_MODEL_1b91bb4f439f46fa89d6c90d56630cfe",
            "placeholder": "​",
            "style": "IPY_MODEL_37e295f397a648d89966f5b9c345fb50",
            "value": " 3/3 [00:09&lt;00:00,  2.59s/it]"
          }
        },
        "d70d0fac7d0c4705a3fecf3fa958f335": {
          "model_module": "@jupyter-widgets/base",
          "model_name": "LayoutModel",
          "model_module_version": "1.2.0",
          "state": {
            "_model_module": "@jupyter-widgets/base",
            "_model_module_version": "1.2.0",
            "_model_name": "LayoutModel",
            "_view_count": null,
            "_view_module": "@jupyter-widgets/base",
            "_view_module_version": "1.2.0",
            "_view_name": "LayoutView",
            "align_content": null,
            "align_items": null,
            "align_self": null,
            "border": null,
            "bottom": null,
            "display": null,
            "flex": null,
            "flex_flow": null,
            "grid_area": null,
            "grid_auto_columns": null,
            "grid_auto_flow": null,
            "grid_auto_rows": null,
            "grid_column": null,
            "grid_gap": null,
            "grid_row": null,
            "grid_template_areas": null,
            "grid_template_columns": null,
            "grid_template_rows": null,
            "height": null,
            "justify_content": null,
            "justify_items": null,
            "left": null,
            "margin": null,
            "max_height": null,
            "max_width": null,
            "min_height": null,
            "min_width": null,
            "object_fit": null,
            "object_position": null,
            "order": null,
            "overflow": null,
            "overflow_x": null,
            "overflow_y": null,
            "padding": null,
            "right": null,
            "top": null,
            "visibility": null,
            "width": null
          }
        },
        "cbf9989693754c6c80bad670d3da5559": {
          "model_module": "@jupyter-widgets/base",
          "model_name": "LayoutModel",
          "model_module_version": "1.2.0",
          "state": {
            "_model_module": "@jupyter-widgets/base",
            "_model_module_version": "1.2.0",
            "_model_name": "LayoutModel",
            "_view_count": null,
            "_view_module": "@jupyter-widgets/base",
            "_view_module_version": "1.2.0",
            "_view_name": "LayoutView",
            "align_content": null,
            "align_items": null,
            "align_self": null,
            "border": null,
            "bottom": null,
            "display": null,
            "flex": null,
            "flex_flow": null,
            "grid_area": null,
            "grid_auto_columns": null,
            "grid_auto_flow": null,
            "grid_auto_rows": null,
            "grid_column": null,
            "grid_gap": null,
            "grid_row": null,
            "grid_template_areas": null,
            "grid_template_columns": null,
            "grid_template_rows": null,
            "height": null,
            "justify_content": null,
            "justify_items": null,
            "left": null,
            "margin": null,
            "max_height": null,
            "max_width": null,
            "min_height": null,
            "min_width": null,
            "object_fit": null,
            "object_position": null,
            "order": null,
            "overflow": null,
            "overflow_x": null,
            "overflow_y": null,
            "padding": null,
            "right": null,
            "top": null,
            "visibility": null,
            "width": null
          }
        },
        "4599ef8a0bc942bc99d4822765346f8f": {
          "model_module": "@jupyter-widgets/controls",
          "model_name": "DescriptionStyleModel",
          "model_module_version": "1.5.0",
          "state": {
            "_model_module": "@jupyter-widgets/controls",
            "_model_module_version": "1.5.0",
            "_model_name": "DescriptionStyleModel",
            "_view_count": null,
            "_view_module": "@jupyter-widgets/base",
            "_view_module_version": "1.2.0",
            "_view_name": "StyleView",
            "description_width": ""
          }
        },
        "8594ced99f354ab18172cde78250b2b8": {
          "model_module": "@jupyter-widgets/base",
          "model_name": "LayoutModel",
          "model_module_version": "1.2.0",
          "state": {
            "_model_module": "@jupyter-widgets/base",
            "_model_module_version": "1.2.0",
            "_model_name": "LayoutModel",
            "_view_count": null,
            "_view_module": "@jupyter-widgets/base",
            "_view_module_version": "1.2.0",
            "_view_name": "LayoutView",
            "align_content": null,
            "align_items": null,
            "align_self": null,
            "border": null,
            "bottom": null,
            "display": null,
            "flex": null,
            "flex_flow": null,
            "grid_area": null,
            "grid_auto_columns": null,
            "grid_auto_flow": null,
            "grid_auto_rows": null,
            "grid_column": null,
            "grid_gap": null,
            "grid_row": null,
            "grid_template_areas": null,
            "grid_template_columns": null,
            "grid_template_rows": null,
            "height": null,
            "justify_content": null,
            "justify_items": null,
            "left": null,
            "margin": null,
            "max_height": null,
            "max_width": null,
            "min_height": null,
            "min_width": null,
            "object_fit": null,
            "object_position": null,
            "order": null,
            "overflow": null,
            "overflow_x": null,
            "overflow_y": null,
            "padding": null,
            "right": null,
            "top": null,
            "visibility": null,
            "width": null
          }
        },
        "dbd913a86e214a25b0aa6ffd10979209": {
          "model_module": "@jupyter-widgets/controls",
          "model_name": "ProgressStyleModel",
          "model_module_version": "1.5.0",
          "state": {
            "_model_module": "@jupyter-widgets/controls",
            "_model_module_version": "1.5.0",
            "_model_name": "ProgressStyleModel",
            "_view_count": null,
            "_view_module": "@jupyter-widgets/base",
            "_view_module_version": "1.2.0",
            "_view_name": "StyleView",
            "bar_color": null,
            "description_width": ""
          }
        },
        "1b91bb4f439f46fa89d6c90d56630cfe": {
          "model_module": "@jupyter-widgets/base",
          "model_name": "LayoutModel",
          "model_module_version": "1.2.0",
          "state": {
            "_model_module": "@jupyter-widgets/base",
            "_model_module_version": "1.2.0",
            "_model_name": "LayoutModel",
            "_view_count": null,
            "_view_module": "@jupyter-widgets/base",
            "_view_module_version": "1.2.0",
            "_view_name": "LayoutView",
            "align_content": null,
            "align_items": null,
            "align_self": null,
            "border": null,
            "bottom": null,
            "display": null,
            "flex": null,
            "flex_flow": null,
            "grid_area": null,
            "grid_auto_columns": null,
            "grid_auto_flow": null,
            "grid_auto_rows": null,
            "grid_column": null,
            "grid_gap": null,
            "grid_row": null,
            "grid_template_areas": null,
            "grid_template_columns": null,
            "grid_template_rows": null,
            "height": null,
            "justify_content": null,
            "justify_items": null,
            "left": null,
            "margin": null,
            "max_height": null,
            "max_width": null,
            "min_height": null,
            "min_width": null,
            "object_fit": null,
            "object_position": null,
            "order": null,
            "overflow": null,
            "overflow_x": null,
            "overflow_y": null,
            "padding": null,
            "right": null,
            "top": null,
            "visibility": null,
            "width": null
          }
        },
        "37e295f397a648d89966f5b9c345fb50": {
          "model_module": "@jupyter-widgets/controls",
          "model_name": "DescriptionStyleModel",
          "model_module_version": "1.5.0",
          "state": {
            "_model_module": "@jupyter-widgets/controls",
            "_model_module_version": "1.5.0",
            "_model_name": "DescriptionStyleModel",
            "_view_count": null,
            "_view_module": "@jupyter-widgets/base",
            "_view_module_version": "1.2.0",
            "_view_name": "StyleView",
            "description_width": ""
          }
        }
      }
    }
  },
  "cells": [
    {
      "cell_type": "code",
      "source": [
        "# !rm -rf /content/qwen3-* *.xlsx\n"
      ],
      "metadata": {
        "id": "Tq0aeUDmRj0R"
      },
      "execution_count": null,
      "outputs": []
    },
    {
      "cell_type": "code",
      "execution_count": null,
      "metadata": {
        "id": "El2QwKsMjffz"
      },
      "outputs": [],
      "source": [
        "!pip install -q transformers datasets peft accelerate bitsandbytes pandas openpyxl"
      ]
    },
    {
      "cell_type": "code",
      "source": [
        "import os\n",
        "import re\n",
        "import pandas as pd\n",
        "from transformers import AutoModelForCausalLM, AutoTokenizer, pipeline\n",
        "from peft import LoraConfig, get_peft_model, TaskType\n",
        "from sklearn.preprocessing import MultiLabelBinarizer\n",
        "from sklearn.metrics import precision_score, recall_score, f1_score, jaccard_score\n",
        "import torch\n",
        "from torch.nn.utils.rnn import pad_sequence\n",
        "from torch.utils.data import DataLoader\n",
        "import random\n",
        "import numpy as np\n",
        "from transformers import set_seed\n",
        "\n",
        "seed = 42\n",
        "random.seed(seed)\n",
        "np.random.seed(seed)\n",
        "torch.manual_seed(seed)\n",
        "set_seed(seed)\n",
        "\n",
        "import importlib.metadata\n",
        "print(importlib.metadata.version(\"bitsandbytes\"))"
      ],
      "metadata": {
        "colab": {
          "base_uri": "https://localhost:8080/"
        },
        "id": "xfmhImbYjlxk",
        "outputId": "dc7e570b-7bbb-4373-dba5-2097dd6a27f4"
      },
      "execution_count": null,
      "outputs": [
        {
          "output_type": "stream",
          "name": "stdout",
          "text": [
            "0.46.1\n"
          ]
        }
      ]
    },
    {
      "cell_type": "code",
      "source": [
        "# ⚙️ Step 2: Upload XLSX file\n",
        "from google.colab import files\n",
        "uploaded = files.upload()  # upload your xlsx file here\n"
      ],
      "metadata": {
        "colab": {
          "base_uri": "https://localhost:8080/",
          "height": 74
        },
        "id": "jfcByWV6kTnJ",
        "outputId": "61e1f8ce-84d7-4c84-f979-52392a759fce"
      },
      "execution_count": null,
      "outputs": [
        {
          "output_type": "display_data",
          "data": {
            "text/plain": [
              "<IPython.core.display.HTML object>"
            ],
            "text/html": [
              "\n",
              "     <input type=\"file\" id=\"files-63e6a43c-0689-4f48-9689-2477fe25f8c8\" name=\"files[]\" multiple disabled\n",
              "        style=\"border:none\" />\n",
              "     <output id=\"result-63e6a43c-0689-4f48-9689-2477fe25f8c8\">\n",
              "      Upload widget is only available when the cell has been executed in the\n",
              "      current browser session. Please rerun this cell to enable.\n",
              "      </output>\n",
              "      <script>// Copyright 2017 Google LLC\n",
              "//\n",
              "// Licensed under the Apache License, Version 2.0 (the \"License\");\n",
              "// you may not use this file except in compliance with the License.\n",
              "// You may obtain a copy of the License at\n",
              "//\n",
              "//      http://www.apache.org/licenses/LICENSE-2.0\n",
              "//\n",
              "// Unless required by applicable law or agreed to in writing, software\n",
              "// distributed under the License is distributed on an \"AS IS\" BASIS,\n",
              "// WITHOUT WARRANTIES OR CONDITIONS OF ANY KIND, either express or implied.\n",
              "// See the License for the specific language governing permissions and\n",
              "// limitations under the License.\n",
              "\n",
              "/**\n",
              " * @fileoverview Helpers for google.colab Python module.\n",
              " */\n",
              "(function(scope) {\n",
              "function span(text, styleAttributes = {}) {\n",
              "  const element = document.createElement('span');\n",
              "  element.textContent = text;\n",
              "  for (const key of Object.keys(styleAttributes)) {\n",
              "    element.style[key] = styleAttributes[key];\n",
              "  }\n",
              "  return element;\n",
              "}\n",
              "\n",
              "// Max number of bytes which will be uploaded at a time.\n",
              "const MAX_PAYLOAD_SIZE = 100 * 1024;\n",
              "\n",
              "function _uploadFiles(inputId, outputId) {\n",
              "  const steps = uploadFilesStep(inputId, outputId);\n",
              "  const outputElement = document.getElementById(outputId);\n",
              "  // Cache steps on the outputElement to make it available for the next call\n",
              "  // to uploadFilesContinue from Python.\n",
              "  outputElement.steps = steps;\n",
              "\n",
              "  return _uploadFilesContinue(outputId);\n",
              "}\n",
              "\n",
              "// This is roughly an async generator (not supported in the browser yet),\n",
              "// where there are multiple asynchronous steps and the Python side is going\n",
              "// to poll for completion of each step.\n",
              "// This uses a Promise to block the python side on completion of each step,\n",
              "// then passes the result of the previous step as the input to the next step.\n",
              "function _uploadFilesContinue(outputId) {\n",
              "  const outputElement = document.getElementById(outputId);\n",
              "  const steps = outputElement.steps;\n",
              "\n",
              "  const next = steps.next(outputElement.lastPromiseValue);\n",
              "  return Promise.resolve(next.value.promise).then((value) => {\n",
              "    // Cache the last promise value to make it available to the next\n",
              "    // step of the generator.\n",
              "    outputElement.lastPromiseValue = value;\n",
              "    return next.value.response;\n",
              "  });\n",
              "}\n",
              "\n",
              "/**\n",
              " * Generator function which is called between each async step of the upload\n",
              " * process.\n",
              " * @param {string} inputId Element ID of the input file picker element.\n",
              " * @param {string} outputId Element ID of the output display.\n",
              " * @return {!Iterable<!Object>} Iterable of next steps.\n",
              " */\n",
              "function* uploadFilesStep(inputId, outputId) {\n",
              "  const inputElement = document.getElementById(inputId);\n",
              "  inputElement.disabled = false;\n",
              "\n",
              "  const outputElement = document.getElementById(outputId);\n",
              "  outputElement.innerHTML = '';\n",
              "\n",
              "  const pickedPromise = new Promise((resolve) => {\n",
              "    inputElement.addEventListener('change', (e) => {\n",
              "      resolve(e.target.files);\n",
              "    });\n",
              "  });\n",
              "\n",
              "  const cancel = document.createElement('button');\n",
              "  inputElement.parentElement.appendChild(cancel);\n",
              "  cancel.textContent = 'Cancel upload';\n",
              "  const cancelPromise = new Promise((resolve) => {\n",
              "    cancel.onclick = () => {\n",
              "      resolve(null);\n",
              "    };\n",
              "  });\n",
              "\n",
              "  // Wait for the user to pick the files.\n",
              "  const files = yield {\n",
              "    promise: Promise.race([pickedPromise, cancelPromise]),\n",
              "    response: {\n",
              "      action: 'starting',\n",
              "    }\n",
              "  };\n",
              "\n",
              "  cancel.remove();\n",
              "\n",
              "  // Disable the input element since further picks are not allowed.\n",
              "  inputElement.disabled = true;\n",
              "\n",
              "  if (!files) {\n",
              "    return {\n",
              "      response: {\n",
              "        action: 'complete',\n",
              "      }\n",
              "    };\n",
              "  }\n",
              "\n",
              "  for (const file of files) {\n",
              "    const li = document.createElement('li');\n",
              "    li.append(span(file.name, {fontWeight: 'bold'}));\n",
              "    li.append(span(\n",
              "        `(${file.type || 'n/a'}) - ${file.size} bytes, ` +\n",
              "        `last modified: ${\n",
              "            file.lastModifiedDate ? file.lastModifiedDate.toLocaleDateString() :\n",
              "                                    'n/a'} - `));\n",
              "    const percent = span('0% done');\n",
              "    li.appendChild(percent);\n",
              "\n",
              "    outputElement.appendChild(li);\n",
              "\n",
              "    const fileDataPromise = new Promise((resolve) => {\n",
              "      const reader = new FileReader();\n",
              "      reader.onload = (e) => {\n",
              "        resolve(e.target.result);\n",
              "      };\n",
              "      reader.readAsArrayBuffer(file);\n",
              "    });\n",
              "    // Wait for the data to be ready.\n",
              "    let fileData = yield {\n",
              "      promise: fileDataPromise,\n",
              "      response: {\n",
              "        action: 'continue',\n",
              "      }\n",
              "    };\n",
              "\n",
              "    // Use a chunked sending to avoid message size limits. See b/62115660.\n",
              "    let position = 0;\n",
              "    do {\n",
              "      const length = Math.min(fileData.byteLength - position, MAX_PAYLOAD_SIZE);\n",
              "      const chunk = new Uint8Array(fileData, position, length);\n",
              "      position += length;\n",
              "\n",
              "      const base64 = btoa(String.fromCharCode.apply(null, chunk));\n",
              "      yield {\n",
              "        response: {\n",
              "          action: 'append',\n",
              "          file: file.name,\n",
              "          data: base64,\n",
              "        },\n",
              "      };\n",
              "\n",
              "      let percentDone = fileData.byteLength === 0 ?\n",
              "          100 :\n",
              "          Math.round((position / fileData.byteLength) * 100);\n",
              "      percent.textContent = `${percentDone}% done`;\n",
              "\n",
              "    } while (position < fileData.byteLength);\n",
              "  }\n",
              "\n",
              "  // All done.\n",
              "  yield {\n",
              "    response: {\n",
              "      action: 'complete',\n",
              "    }\n",
              "  };\n",
              "}\n",
              "\n",
              "scope.google = scope.google || {};\n",
              "scope.google.colab = scope.google.colab || {};\n",
              "scope.google.colab._files = {\n",
              "  _uploadFiles,\n",
              "  _uploadFilesContinue,\n",
              "};\n",
              "})(self);\n",
              "</script> "
            ]
          },
          "metadata": {}
        },
        {
          "output_type": "stream",
          "name": "stdout",
          "text": [
            "Saving train-test-data_modified.xlsx to train-test-data_modified.xlsx\n"
          ]
        }
      ]
    },
    {
      "cell_type": "code",
      "source": [
        "from google.colab import drive\n"
      ],
      "metadata": {
        "id": "ZLGklYKvxXYb"
      },
      "execution_count": null,
      "outputs": []
    },
    {
      "cell_type": "code",
      "source": [
        "# 📊 3. Load and Prepare Data\n",
        "import pandas as pd\n",
        "from datasets import Dataset\n",
        "\n",
        "xlsx_file = list(uploaded.keys())[0]\n",
        "df_train = pd.read_excel(xlsx_file, sheet_name=\"train\")\n",
        "df_test = pd.read_excel(xlsx_file, sheet_name=\"test\")"
      ],
      "metadata": {
        "id": "Uy6lPsPJka3t"
      },
      "execution_count": null,
      "outputs": []
    },
    {
      "cell_type": "code",
      "source": [
        "# Combine input and output into prompt and target for causal LM\n",
        "def build_prompt(input_finding: str) -> str:\n",
        "    return \"\"\"\n",
        "    You are a clinical AI assistant. Extract only the confirmed or highly suspected disease names from this radiology report.\n",
        "\n",
        "Instructions:\n",
        "- Do not include any explanation, reasoning, or additional text.\n",
        "- Return only the disease names, separated by commas.\n",
        "- Use standard medical terminology.\n",
        "- Be precise and avoid speculation.\n",
        "- Do not duplicate disease names.\n",
        "- If no diseases are found, output: No acute abnormality.\n",
        "\n",
        "Now analyze this radiology report:\n",
        "{input_finding}\n",
        "\n",
        "output_disease\\n\"\"\"\n",
        "\n",
        "def build_example(row):\n",
        "    prompt = build_prompt(row['input_finding'])\n",
        "    return {\n",
        "        \"prompt_text\": prompt,\n",
        "        \"completion_text\": row['output_disease']\n",
        "    }\n",
        "\n",
        "df_train = df_train.sample(frac=1, random_state=seed).reset_index(drop=True)\n",
        "train_pairs = df_train.apply(build_example, axis=1).tolist()\n",
        "\n",
        "test_pairs  = df_test.apply(build_example, axis=1).tolist()\n",
        "\n",
        "# Convert to Hugging Face Dataset from list of dicts\n",
        "train_dataset = Dataset.from_list(train_pairs)\n",
        "test_dataset  = Dataset.from_list(test_pairs)\n",
        "\n"
      ],
      "metadata": {
        "id": "4gFEvvrokiRo"
      },
      "execution_count": null,
      "outputs": []
    },
    {
      "cell_type": "code",
      "source": [
        "#Step2. load model\n",
        "model_id = \"Qwen/Qwen3-4B\"\n",
        "\n",
        "tokenizer = AutoTokenizer.from_pretrained(model_id, trust_remote_code=True,padding_side = \"left\")\n",
        "# tokenizer.padding_side = \"left\"\n"
      ],
      "metadata": {
        "id": "fQMd5M-njmK3",
        "colab": {
          "base_uri": "https://localhost:8080/"
        },
        "outputId": "c6b58542-83c8-4b67-9c66-7e1318d60ac4"
      },
      "execution_count": null,
      "outputs": [
        {
          "output_type": "stream",
          "name": "stderr",
          "text": [
            "/usr/local/lib/python3.11/dist-packages/huggingface_hub/utils/_auth.py:94: UserWarning: \n",
            "The secret `HF_TOKEN` does not exist in your Colab secrets.\n",
            "To authenticate with the Hugging Face Hub, create a token in your settings tab (https://huggingface.co/settings/tokens), set it as secret in your Google Colab and restart your session.\n",
            "You will be able to reuse this secret in all of your notebooks.\n",
            "Please note that authentication is recommended but still optional to access public models or datasets.\n",
            "  warnings.warn(\n"
          ]
        }
      ]
    },
    {
      "cell_type": "code",
      "source": [
        "# 🔤 Step 4: Tokenize Data\n",
        "def tokenize_fn(example):\n",
        "    # Tokenize prompt and completion separately\n",
        "    inputs = tokenizer(example['prompt_text'], truncation=True, max_length=1024, add_special_tokens=False)\n",
        "    targets = tokenizer(example['completion_text'], truncation=True, max_length=32, add_special_tokens=False)\n",
        "    # Concatenate and add EOS\n",
        "    input_ids = inputs['input_ids'] + targets['input_ids'] + [tokenizer.eos_token_id]\n",
        "    attention_mask = [1] * len(input_ids)\n",
        "    # Mask prompt tokens for loss\n",
        "    labels = [-100] * len(inputs['input_ids']) + targets['input_ids'] + [tokenizer.eos_token_id]\n",
        "    return {'input_ids': input_ids, 'attention_mask': attention_mask, 'labels': labels}\n",
        "\n",
        "# Map without batching to preserve varying lengths\n",
        "tokenized_train = train_dataset.map(tokenize_fn, batched=False)\n",
        "tokenized_test  = test_dataset.map(tokenize_fn, batched=False)\n",
        "\n"
      ],
      "metadata": {
        "colab": {
          "base_uri": "https://localhost:8080/",
          "height": 81,
          "referenced_widgets": [
            "e39851faeede47e1bcd42058e675bcfc",
            "851f9241c5b6430cb323583851a41593",
            "fececbd4bf964678a944e2f0751a87ed",
            "a2e54e80028e4554962f267c709e5c1a",
            "bd05081e69eb4bb18ff55b0578883477",
            "a906050348e54726be0eea3cdb94a2ea",
            "6c8882251ed0469da647119f29748532",
            "09b74b9c6830462a9213978b85dd99e2",
            "062674a70a924927bc44f941bc36d470",
            "bd1d34483757438bb439c4af2ca93d3b",
            "826a22253bbd4a3aa7f7f5212d61fe96",
            "f807ce16ba4948c0b4acac0f179976c3",
            "0a6117d920ee49f39257d9e6658168fd",
            "5eff736103254101a962c56daa436ec1",
            "2b64717883174cba9ce9e7bb628710be",
            "bedaa3fb672e401da656e70811d4b1e8",
            "7d5bd3fe6d5445ca856dd62db8bb859d",
            "47127265c46d4772921652cfad307f47",
            "523903f127a74b42be2983dc9d2fe1d2",
            "c3583896e4174777a74029efcf7e3c27",
            "aaa25c7d5a87421eb87aee96303d7f2d",
            "1a48857242564ce5a69867b813809f51"
          ]
        },
        "id": "g2_bBb9lk81D",
        "outputId": "6d7f8756-eff6-4cb8-ded1-bd524731b636"
      },
      "execution_count": null,
      "outputs": [
        {
          "output_type": "display_data",
          "data": {
            "text/plain": [
              "Map:   0%|          | 0/1236 [00:00<?, ? examples/s]"
            ],
            "application/vnd.jupyter.widget-view+json": {
              "version_major": 2,
              "version_minor": 0,
              "model_id": "e39851faeede47e1bcd42058e675bcfc"
            }
          },
          "metadata": {}
        },
        {
          "output_type": "display_data",
          "data": {
            "text/plain": [
              "Map:   0%|          | 0/386 [00:00<?, ? examples/s]"
            ],
            "application/vnd.jupyter.widget-view+json": {
              "version_major": 2,
              "version_minor": 0,
              "model_id": "f807ce16ba4948c0b4acac0f179976c3"
            }
          },
          "metadata": {}
        }
      ]
    },
    {
      "cell_type": "code",
      "source": [
        "\n",
        "# 🧩 Step 5: Compute Config (CPU vs GPU)\n",
        "def get_compute_config():\n",
        "    if torch.cuda.is_available():\n",
        "        print('GPU available')\n",
        "        return {\n",
        "            'device': 'cuda',\n",
        "            'load_in_4bit': True,\n",
        "            'bf16': torch.cuda.is_bf16_supported(),\n",
        "            'device_map': 'auto',\n",
        "            'per_device_train_batch_size': 4 # for A100 GPU\n",
        "        }\n",
        "    else:\n",
        "        print('only CPU')\n",
        "        return {\n",
        "            'device': 'cpu',\n",
        "            'load_in_4bit': False,\n",
        "            'bf16': False,\n",
        "            'device_map': {'': 'cpu'},\n",
        "            'per_device_train_batch_size': 1\n",
        "        }\n",
        "\n",
        "config = get_compute_config()\n",
        "\n",
        "\n",
        "if config['load_in_4bit']:\n",
        "    # GPU + 4‑bit path\n",
        "    model = AutoModelForCausalLM.from_pretrained(\n",
        "        model_id,\n",
        "        load_in_4bit=True,\n",
        "        bnb_4bit_compute_dtype=torch.float16,\n",
        "        device_map=config['device_map'],\n",
        "        trust_remote_code=True\n",
        "    )\n",
        "else:\n",
        "    # CPU (or full‑precision) path – no bitsandbytes\n",
        "    model = AutoModelForCausalLM.from_pretrained(\n",
        "        model_id,\n",
        "        torch_dtype=torch.float32,\n",
        "        device_map=config['device_map'],\n",
        "        trust_remote_code=True\n",
        "    )\n",
        "\n"
      ],
      "metadata": {
        "id": "JoUHo9zLlC7b",
        "colab": {
          "base_uri": "https://localhost:8080/",
          "height": 105,
          "referenced_widgets": [
            "a6001125278a4efdb88936069d193488",
            "00bec8f6ab9045e5a9eda37f1a0c1e9e",
            "61099e13a5ee4335a9f54d2d42d3cce7",
            "c012529d89a84d13b40e2a1699896b05",
            "d70d0fac7d0c4705a3fecf3fa958f335",
            "cbf9989693754c6c80bad670d3da5559",
            "4599ef8a0bc942bc99d4822765346f8f",
            "8594ced99f354ab18172cde78250b2b8",
            "dbd913a86e214a25b0aa6ffd10979209",
            "1b91bb4f439f46fa89d6c90d56630cfe",
            "37e295f397a648d89966f5b9c345fb50"
          ]
        },
        "outputId": "5b958554-40b3-4a17-db4e-0343aec0b575"
      },
      "execution_count": null,
      "outputs": [
        {
          "output_type": "stream",
          "name": "stdout",
          "text": [
            "GPU available\n"
          ]
        },
        {
          "output_type": "stream",
          "name": "stderr",
          "text": [
            "The `load_in_4bit` and `load_in_8bit` arguments are deprecated and will be removed in the future versions. Please, pass a `BitsAndBytesConfig` object in `quantization_config` argument instead.\n"
          ]
        },
        {
          "output_type": "display_data",
          "data": {
            "text/plain": [
              "Loading checkpoint shards:   0%|          | 0/3 [00:00<?, ?it/s]"
            ],
            "application/vnd.jupyter.widget-view+json": {
              "version_major": 2,
              "version_minor": 0,
              "model_id": "a6001125278a4efdb88936069d193488"
            }
          },
          "metadata": {}
        }
      ]
    },
    {
      "cell_type": "code",
      "source": [
        "\n",
        "# 🧼 Step : Clean and parse the generated output\n",
        "def parse_labels(output_string, delimiter=\"output_disease\"):\n",
        "    \"\"\"\n",
        "    Extracts a list of disease/abnormality labels from the model's raw output.\n",
        "\n",
        "    - Splits on the given delimiter (e.g. \"output_disease\")\n",
        "    - Detects whether the body is comma-separated or bullet-list\n",
        "    - Cleans up whitespace and leading bullets/hyphens\n",
        "    - PRESERVES all entries (no deduplication)\n",
        "    \"\"\"\n",
        "    # 1) Isolate the part after your delimiter\n",
        "    try:\n",
        "        body = output_string.split(delimiter, 1)[1]\n",
        "    except IndexError:\n",
        "        body = output_string\n",
        "\n",
        "    # 2) Trim whitespace\n",
        "    body = body.strip()\n",
        "\n",
        "    labels = []\n",
        "    # 3a) If there's a comma on the first line, treat as comma-separated\n",
        "    first_line = body.splitlines()[0]\n",
        "    if \",\" in first_line:\n",
        "        parts = [p.strip() for p in first_line.split(\",\")]\n",
        "        labels = [p for p in parts if p]\n",
        "\n",
        "    # 3b) Otherwise, one-item-per-line list\n",
        "    else:\n",
        "        for line in body.splitlines():\n",
        "            clean = line.strip()\n",
        "            if not clean:\n",
        "                continue\n",
        "            # remove leading bullets or hyphens\n",
        "            clean = re.sub(r\"^[\\-\\u2022]\\s*\", \"\", clean)\n",
        "            # split if there are commas in a bullet\n",
        "            for part in clean.split(\",\"):\n",
        "                part = part.strip()\n",
        "                if part:\n",
        "                    labels.append(part)\n",
        "\n",
        "    return labels\n",
        "\n"
      ],
      "metadata": {
        "id": "yPaGfLBBy4Z4"
      },
      "execution_count": null,
      "outputs": []
    },
    {
      "cell_type": "code",
      "source": [
        "# 🧠 Step 6: Load Model with LoRA\n",
        "\n",
        "lora_config = LoraConfig(\n",
        "    r=8,\n",
        "    lora_alpha=32,\n",
        "    lora_dropout=0.05,\n",
        "    bias='none',\n",
        "    task_type=TaskType.CAUSAL_LM,\n",
        "    #target_modules=['q_proj', 'v_proj'],\n",
        "    target_modules=['q_proj','k_proj','v_proj','o_proj'],\n",
        ")\n",
        "\n",
        "model = get_peft_model(model, lora_config)\n",
        "model.print_trainable_parameters()\n"
      ],
      "metadata": {
        "colab": {
          "base_uri": "https://localhost:8080/"
        },
        "id": "8hs6BjC_lTu2",
        "outputId": "65e56427-010f-473a-d57a-6c3ca943d6e3"
      },
      "execution_count": null,
      "outputs": [
        {
          "output_type": "stream",
          "name": "stdout",
          "text": [
            "trainable params: 5,898,240 || all params: 4,028,366,336 || trainable%: 0.1464\n"
          ]
        }
      ]
    },
    {
      "cell_type": "code",
      "source": [
        "# # 🧩 Step 7: Custom Data Collator\n",
        "\n",
        "def custom_collate(features, tokenizer):\n",
        "    pad_token_id = tokenizer.pad_token_id if tokenizer.pad_token_id is not None else tokenizer.eos_token_id\n",
        "\n",
        "    # 1. turn each list into a tensor\n",
        "    input_ids      = [torch.tensor(f['input_ids'],      dtype=torch.long) for f in features]\n",
        "    attention_mask = [torch.tensor(f['attention_mask'], dtype=torch.long) for f in features]\n",
        "    labels         = [torch.tensor(f['labels'],         dtype=torch.long) for f in features]\n",
        "\n",
        "    # 2. pad all to the max length in the batch\n",
        "    input_ids      = pad_sequence(input_ids,      batch_first=True, padding_value=pad_token_id)\n",
        "    attention_mask = pad_sequence(attention_mask, batch_first=True, padding_value=0)\n",
        "    labels         = pad_sequence(labels,         batch_first=True, padding_value=-100)\n",
        "\n",
        "    return {\n",
        "        'input_ids':      input_ids,\n",
        "        'attention_mask': attention_mask,\n",
        "        'labels':         labels\n",
        "    }\n",
        "\n",
        "\n"
      ],
      "metadata": {
        "id": "RYrlbvM_lVN_"
      },
      "execution_count": null,
      "outputs": []
    },
    {
      "cell_type": "code",
      "source": [
        "# 🏃 Step 8: Training Setup and Run\n",
        "from transformers import TrainingArguments, Trainer\n",
        "from functools import partial\n",
        "\n",
        "training_args = TrainingArguments(\n",
        "    output_dir='./qwen3-lora-4B',\n",
        "    per_device_train_batch_size=config['per_device_train_batch_size'],\n",
        "    gradient_accumulation_steps=8,\n",
        "    num_train_epochs=1,\n",
        "    logging_steps=1,\n",
        "    eval_strategy='steps',\n",
        "    eval_steps=10,\n",
        "    save_strategy='steps',\n",
        "    save_steps=100,\n",
        "    logging_dir='./logs',\n",
        "    learning_rate=1e-4,\n",
        "    bf16=config['bf16'],\n",
        "    label_names=[\"labels\"],\n",
        "    report_to='tensorboard'\n",
        ")\n",
        "\n",
        "trainer = Trainer(\n",
        "    model=model,\n",
        "    args=training_args,\n",
        "    train_dataset=tokenized_train,\n",
        "    eval_dataset=tokenized_test,\n",
        "    data_collator = partial(custom_collate, tokenizer=tokenizer),\n",
        "\n",
        ")\n",
        "\n",
        "trainer.train()\n"
      ],
      "metadata": {
        "colab": {
          "base_uri": "https://localhost:8080/",
          "height": 223
        },
        "id": "wP00uW8llasH",
        "outputId": "52a1a81b-05b2-4ada-f9a6-d81744149b14"
      },
      "execution_count": null,
      "outputs": [
        {
          "output_type": "display_data",
          "data": {
            "text/plain": [
              "<IPython.core.display.HTML object>"
            ],
            "text/html": [
              "\n",
              "    <div>\n",
              "      \n",
              "      <progress value='39' max='39' style='width:300px; height:20px; vertical-align: middle;'></progress>\n",
              "      [39/39 02:25, Epoch 1/1]\n",
              "    </div>\n",
              "    <table border=\"1\" class=\"dataframe\">\n",
              "  <thead>\n",
              " <tr style=\"text-align: left;\">\n",
              "      <th>Step</th>\n",
              "      <th>Training Loss</th>\n",
              "      <th>Validation Loss</th>\n",
              "    </tr>\n",
              "  </thead>\n",
              "  <tbody>\n",
              "    <tr>\n",
              "      <td>10</td>\n",
              "      <td>2.704100</td>\n",
              "      <td>2.609092</td>\n",
              "    </tr>\n",
              "    <tr>\n",
              "      <td>20</td>\n",
              "      <td>1.332500</td>\n",
              "      <td>1.591013</td>\n",
              "    </tr>\n",
              "    <tr>\n",
              "      <td>30</td>\n",
              "      <td>1.247400</td>\n",
              "      <td>1.383826</td>\n",
              "    </tr>\n",
              "  </tbody>\n",
              "</table><p>"
            ]
          },
          "metadata": {}
        },
        {
          "output_type": "execute_result",
          "data": {
            "text/plain": [
              "TrainOutput(global_step=39, training_loss=2.0994506646425295, metrics={'train_runtime': 148.9163, 'train_samples_per_second': 8.3, 'train_steps_per_second': 0.262, 'total_flos': 3128902831792128.0, 'train_loss': 2.0994506646425295, 'epoch': 1.0})"
            ]
          },
          "metadata": {},
          "execution_count": 14
        }
      ]
    },
    {
      "cell_type": "code",
      "source": [
        "# # 💾 9. Merge and Save the Model\n",
        "\n",
        "# ==============================\n",
        "# 💾 1. Save Adapter-Only LoRA\n",
        "# ==============================\n",
        "adapter_only_dir = \"./qwen3-4B-lora-only\"\n",
        "\n",
        "# Save only the LoRA adapter weights (small, reusable)\n",
        "model.save_pretrained(adapter_only_dir, save_adapter=True)\n",
        "tokenizer.save_pretrained(adapter_only_dir)\n",
        "\n",
        "print(f\"✅ Adapter-only LoRA saved to {adapter_only_dir}\")\n",
        "\n",
        "# ==============================\n",
        "# 💾 2. Merge LoRA into Base Model and Save Full Fine-Tuned Model\n",
        "# ==============================\n",
        "merged_model_dir = \"./qwen3-4B-lora-merged\"\n",
        "\n",
        "# Merge LoRA weights into base model weights for standalone inference\n",
        "model = model.merge_and_unload()\n",
        "\n",
        "# Save the merged full model\n",
        "model.save_pretrained(merged_model_dir)\n",
        "tokenizer.save_pretrained(merged_model_dir)\n",
        "\n",
        "print(f\"✅ Merged full model saved to {merged_model_dir}\")\n"
      ],
      "metadata": {
        "colab": {
          "base_uri": "https://localhost:8080/"
        },
        "id": "VpBeJxz7zcJc",
        "outputId": "2d97a323-5816-4830-b919-a70cbb987083"
      },
      "execution_count": null,
      "outputs": [
        {
          "output_type": "stream",
          "name": "stdout",
          "text": [
            "✅ Adapter-only LoRA saved to ./qwen3-4B-lora-only\n"
          ]
        },
        {
          "output_type": "stream",
          "name": "stderr",
          "text": [
            "/usr/local/lib/python3.11/dist-packages/peft/tuners/lora/bnb.py:351: UserWarning: Merge lora module to 4-bit linear may get different generations due to rounding errors.\n",
            "  warnings.warn(\n"
          ]
        },
        {
          "output_type": "stream",
          "name": "stdout",
          "text": [
            "✅ Merged full model saved to ./qwen3-4B-lora-merged\n"
          ]
        }
      ]
    },
    {
      "cell_type": "code",
      "source": [
        "!tar -czvf qwen3-4B-lora-merged.tar.gz /content/qwen3-4B-lora-merged"
      ],
      "metadata": {
        "colab": {
          "base_uri": "https://localhost:8080/"
        },
        "id": "8pUsdmVr3s3x",
        "outputId": "ecd19056-4d1d-4236-9914-467b7f9aaa78"
      },
      "execution_count": null,
      "outputs": [
        {
          "output_type": "stream",
          "name": "stdout",
          "text": [
            "tar: Removing leading `/' from member names\n",
            "/content/qwen3-4B-lora-merged/\n",
            "/content/qwen3-4B-lora-merged/vocab.json\n",
            "/content/qwen3-4B-lora-merged/merges.txt\n",
            "/content/qwen3-4B-lora-merged/added_tokens.json\n",
            "/content/qwen3-4B-lora-merged/special_tokens_map.json\n",
            "/content/qwen3-4B-lora-merged/chat_template.jinja\n",
            "/content/qwen3-4B-lora-merged/tokenizer.json\n",
            "/content/qwen3-4B-lora-merged/model.safetensors\n",
            "/content/qwen3-4B-lora-merged/tokenizer_config.json\n",
            "/content/qwen3-4B-lora-merged/config.json\n",
            "/content/qwen3-4B-lora-merged/generation_config.json\n"
          ]
        }
      ]
    },
    {
      "cell_type": "code",
      "source": [
        "from google.colab import drive\n",
        "drive.mount('/content/drive')"
      ],
      "metadata": {
        "colab": {
          "base_uri": "https://localhost:8080/"
        },
        "id": "2dshirLi3s65",
        "outputId": "8449584f-fe04-4d5c-a193-8b0a8a477697"
      },
      "execution_count": null,
      "outputs": [
        {
          "output_type": "stream",
          "name": "stdout",
          "text": [
            "Drive already mounted at /content/drive; to attempt to forcibly remount, call drive.mount(\"/content/drive\", force_remount=True).\n"
          ]
        }
      ]
    },
    {
      "cell_type": "code",
      "source": [
        "!mkdir /content/drive/My\\ Drive/qwen3-4B-epoch-1-lora-lr_1\n",
        "!cp -r /content/qwen3-4B-lora-merged.tar.gz /content/drive/My\\ Drive/qwen3-4B-epoch-1-lora-lr_1/\n",
        "!cp -r /content/qwen3-4B-lora-only /content/drive/My\\ Drive/qwen3-4B-epoch-1-lora-lr_1/\n",
        "!cp -r /content/qwen3-lora-4B /content/drive/My\\ Drive/qwen3-4B-epoch-1-lora-lr_1/\n",
        "!cp -r /content/qwen3-4B-lora-merged /content/drive/My\\ Drive/qwen3-4B-epoch-1-lora-lr_1/\n"
      ],
      "metadata": {
        "id": "RgWYyciWEmSV"
      },
      "execution_count": null,
      "outputs": []
    },
    {
      "cell_type": "code",
      "source": [],
      "metadata": {
        "id": "i0MFo2cA3s-y"
      },
      "execution_count": null,
      "outputs": []
    },
    {
      "cell_type": "code",
      "source": [],
      "metadata": {
        "id": "r62XQJob3tD-"
      },
      "execution_count": null,
      "outputs": []
    },
    {
      "cell_type": "code",
      "source": [],
      "metadata": {
        "id": "TO9ZiyuK2GQT"
      },
      "execution_count": null,
      "outputs": []
    },
    {
      "cell_type": "code",
      "source": [
        "#Step2. load model\n",
        "merged_model_dir = \"./qwen3-4B-lora-merged\"\n",
        "tokenizer = AutoTokenizer.from_pretrained(merged_model_dir)\n",
        "\n",
        "# tokenizer = AutoTokenizer.from_pretrained(model_id, trust_remote_code=True)\n",
        "# Load merged model\n",
        "model = AutoModelForCausalLM.from_pretrained(\n",
        "    merged_model_dir,\n",
        "    device_map=\"auto\",          # or device_map={\"\": \"cuda\"} if only one GPU\n",
        "    torch_dtype=\"auto\"          # or torch.float16 for forced half precision\n",
        ")\n",
        "\n",
        "\n",
        "pipe = pipeline(\"text-generation\", model=model, tokenizer=tokenizer)\n",
        "\n",
        "print(\"✅ Model and tokenizer loaded successfully.\")\n"
      ],
      "metadata": {
        "colab": {
          "base_uri": "https://localhost:8080/"
        },
        "id": "FjY175a72GTq",
        "outputId": "525cdafa-7a06-405e-f6f2-b7879aba8b9d"
      },
      "execution_count": null,
      "outputs": [
        {
          "output_type": "stream",
          "name": "stderr",
          "text": [
            "Device set to use cuda:0\n"
          ]
        },
        {
          "output_type": "stream",
          "name": "stdout",
          "text": [
            "✅ Model and tokenizer loaded successfully.\n"
          ]
        }
      ]
    },
    {
      "cell_type": "code",
      "source": [
        "\n",
        "# 🧾 Step 3: Define the prompt template\n",
        "\n",
        "def build_prompt(input_finding):\n",
        "#    return f\"\"\"\n",
        "#Your task is to extract disease and abnormal findings from the following radiology report.\n",
        "    return f\"\"\"You are a clinical AI assistant. Extract only the confirmed or highly suspected disease names from this radiology report.\n",
        "\n",
        "Instructions:\n",
        "- Do not include any explanation, reasoning, or additional text.\n",
        "- Return only the disease names, separated by commas.\n",
        "- Use standard medical terminology.\n",
        "- Be precise and avoid speculation.\n",
        "- Do not duplicate disease names.\n",
        "- If no diseases are found, output: No significant findings.\n",
        "\n",
        "Now analyze this radiology report:\n",
        "{input_finding}\n",
        "\n",
        "output_disease\\n\"\"\"\n",
        "\n"
      ],
      "metadata": {
        "id": "VjOCTihB2GgJ"
      },
      "execution_count": null,
      "outputs": []
    },
    {
      "cell_type": "code",
      "source": [
        "def parse_labels(output_string, delimiter=\"output_disease\"):\n",
        "    \"\"\"\n",
        "    Extracts a list of disease/abnormality labels from the model's raw output.\n",
        "\n",
        "    - Splits on the given delimiter (e.g. \"output_disease\")\n",
        "    - Detects whether the body is comma-separated or bullet-list\n",
        "    - Cleans up whitespace and leading bullets/hyphens\n",
        "    - PRESERVES all entries (no deduplication)\n",
        "    \"\"\"\n",
        "    # 1) Isolate the part after your delimiter\n",
        "    try:\n",
        "        body = output_string.split(delimiter, 1)[1]\n",
        "    except IndexError:\n",
        "        body = output_string\n",
        "\n",
        "    # 2) Trim whitespace\n",
        "    body = body.strip()\n",
        "\n",
        "    labels = []\n",
        "    # 3a) If there's a comma on the first line, treat as comma-separated\n",
        "    first_line = body.splitlines()[0]\n",
        "    if \",\" in first_line:\n",
        "        parts = [p.strip() for p in first_line.split(\",\")]\n",
        "        labels = [p for p in parts if p]\n",
        "\n",
        "    # 3b) Otherwise, one-item-per-line list\n",
        "    else:\n",
        "        for line in body.splitlines():\n",
        "            clean = line.strip()\n",
        "            if not clean:\n",
        "                continue\n",
        "            # remove leading bullets or hyphens\n",
        "            clean = re.sub(r\"^[\\-\\u2022]\\s*\", \"\", clean)\n",
        "            # split if there are commas in a bullet\n",
        "            for part in clean.split(\",\"):\n",
        "                part = part.strip()\n",
        "                if part:\n",
        "                    labels.append(part)\n",
        "\n",
        "    return labels\n"
      ],
      "metadata": {
        "id": "hhiakcP-2Gix"
      },
      "execution_count": null,
      "outputs": []
    },
    {
      "cell_type": "code",
      "source": [
        "\n",
        "# 🧪 Step 5: Example inference\n",
        "example_input = \"\"\"The liver is normal in size and shape with homogeneous density. A patchy low-density lesion is seen around the liver fissure. The intrahepatic duct system is not obviously dilated, and the course is normal. The gallbladder is not enlarged, with no obvious thickening of the wall, and no clearly abnormal density foci are seen inside. The spleen is normal in size and shape with homogeneous density, and some punctate low-density foci are seen inside. The pancreas is normal in size and shape with homogeneous density, and no clearly abnormal density foci are seen inside. The main pancreatic duct is not obviously dilated, and the peripancreatic fat space is clear. Both kidneys are normal in size and shape with homogeneous density. A round low-density lesion is seen in the right kidney with a diameter of about 16mm. The left adrenal gland is thickened, and a punctate high-density lesion is seen in the right adrenal gland. The renal pelvis-calyx system is not obviously dilated. The perirenal fat space is clear, and no clearly abnormal density foci are seen. No enlarged lymph nodes are seen in the retroperitoneum.\"\"\"\n",
        "expected_output = [\"renal cyst\", \"adrenal hyperplasia\", \"adrenal calcification\"]\n",
        "\n",
        "prompt = build_prompt(example_input)\n",
        "response = pipe(prompt, max_new_tokens=32, do_sample=False)[0][\"generated_text\"]\n",
        "prediction = parse_labels(response, delimiter=\"output_disease\")\n",
        "print(\"🧠 Predicted:\", prediction)\n",
        "\n",
        "print(\"\\n \\n \\n full responce: \\n\", response)\n"
      ],
      "metadata": {
        "colab": {
          "base_uri": "https://localhost:8080/"
        },
        "id": "_A-ULXLyzcO_",
        "outputId": "c0afe5f9-ba9c-4b98-ed4a-a39fcfd1c37c"
      },
      "execution_count": null,
      "outputs": [
        {
          "output_type": "stream",
          "name": "stderr",
          "text": [
            "The following generation flags are not valid and may be ignored: ['temperature', 'top_p', 'top_k']. Set `TRANSFORMERS_VERBOSITY=info` for more details.\n"
          ]
        },
        {
          "output_type": "stream",
          "name": "stdout",
          "text": [
            "🧠 Predicted: ['Kidney tumor', 'Adrenal hyperplasia', 'Adrenal tumor', 'Hepatic lesion', 'Spleen lesion']\n",
            "\n",
            " \n",
            " \n",
            " full responce: \n",
            " You are a clinical AI assistant. Extract only the confirmed or highly suspected disease names from this radiology report.\n",
            "\n",
            "Instructions:\n",
            "- Do not include any explanation, reasoning, or additional text.\n",
            "- Return only the disease names, separated by commas.\n",
            "- Use standard medical terminology.\n",
            "- Be precise and avoid speculation.\n",
            "- Do not duplicate disease names.\n",
            "- If no diseases are found, output: No significant findings.\n",
            "\n",
            "Now analyze this radiology report:\n",
            "The liver is normal in size and shape with homogeneous density. A patchy low-density lesion is seen around the liver fissure. The intrahepatic duct system is not obviously dilated, and the course is normal. The gallbladder is not enlarged, with no obvious thickening of the wall, and no clearly abnormal density foci are seen inside. The spleen is normal in size and shape with homogeneous density, and some punctate low-density foci are seen inside. The pancreas is normal in size and shape with homogeneous density, and no clearly abnormal density foci are seen inside. The main pancreatic duct is not obviously dilated, and the peripancreatic fat space is clear. Both kidneys are normal in size and shape with homogeneous density. A round low-density lesion is seen in the right kidney with a diameter of about 16mm. The left adrenal gland is thickened, and a punctate high-density lesion is seen in the right adrenal gland. The renal pelvis-calyx system is not obviously dilated. The perirenal fat space is clear, and no clearly abnormal density foci are seen. No enlarged lymph nodes are seen in the retroperitoneum.\n",
            "\n",
            "output_disease\n",
            "Kidney tumor, Adrenal hyperplasia, Adrenal tumor, Hepatic lesion, Spleen lesion\n",
            "```\n",
            "\n",
            "Okay, let's go through the\n"
          ]
        }
      ]
    },
    {
      "cell_type": "code",
      "source": [
        "# 🧮 Step 6: Metric calculation\n",
        "\n",
        "def compute_metrics(preds, targets):\n",
        "    # preds, targets: lists of label‐lists\n",
        "    mlb = MultiLabelBinarizer()\n",
        "    mlb.fit(preds + targets)  # <<< fit on all individual lists\n",
        "\n",
        "    y_pred = mlb.transform(preds)\n",
        "    y_true = mlb.transform(targets)\n",
        "\n",
        "    return {\n",
        "        \"precision\": precision_score(y_true, y_pred, average='micro', zero_division=0),\n",
        "        \"recall\":    recall_score(y_true, y_pred, average='micro', zero_division=0),\n",
        "        \"f1_micro\":  f1_score(y_true, y_pred, average='micro', zero_division=0),\n",
        "        \"jaccard\":   jaccard_score(y_true, y_pred, average='samples', zero_division=0).item(),\n",
        "    }\n",
        "\n",
        "# Parse into a list\n",
        "pred_labels = parse_labels(response, delimiter=\"output_disease\")\n",
        "pred_labels=[lbl.lower() for lbl in pred_labels]\n",
        "\n",
        "\n",
        "# Prepare ground truth\n",
        "true_labels = [lbl.strip().lower() for lbl in expected_output]\n",
        "\n",
        "# Compute metrics\n",
        "metrics = compute_metrics([pred_labels], [true_labels])\n",
        "print(\"📊 Evaluation:\", metrics)\n"
      ],
      "metadata": {
        "colab": {
          "base_uri": "https://localhost:8080/"
        },
        "id": "OEZbt8hazcTc",
        "outputId": "5902bfa3-72b6-43ba-f5a3-23f7465749af"
      },
      "execution_count": null,
      "outputs": [
        {
          "output_type": "stream",
          "name": "stdout",
          "text": [
            "📊 Evaluation: {'precision': 0.2, 'recall': 0.3333333333333333, 'f1_micro': 0.25, 'jaccard': 0.14285714285714285}\n"
          ]
        }
      ]
    },
    {
      "cell_type": "code",
      "source": [
        "# ✅ Parse into a list\n",
        "pred_labels = parse_labels(response, delimiter=\"output_disease\")\n",
        "pred_labels = [lbl.lower() for lbl in pred_labels]\n",
        "\n",
        "# ✅ Prepare ground truth\n",
        "true_labels = [lbl.strip().lower() for lbl in expected_output]\n",
        "\n",
        "# ✅ Compute metrics\n",
        "metrics = compute_metrics([pred_labels], [true_labels])\n",
        "\n",
        "# ✅ Print each metric on a separate line with 3 decimal places\n",
        "print(\"📊 Evaluation Results:\")\n",
        "for key, value in metrics.items():\n",
        "    print(f\"{key}: {value:.3f}\")"
      ],
      "metadata": {
        "colab": {
          "base_uri": "https://localhost:8080/"
        },
        "id": "nE483YnGHGhx",
        "outputId": "2c179c49-5f92-474d-90a7-12564c771118"
      },
      "execution_count": null,
      "outputs": [
        {
          "output_type": "stream",
          "name": "stdout",
          "text": [
            "📊 Evaluation Results:\n",
            "precision: 0.200\n",
            "recall: 0.333\n",
            "f1_micro: 0.250\n",
            "jaccard: 0.143\n"
          ]
        }
      ]
    },
    {
      "cell_type": "code",
      "source": [],
      "metadata": {
        "id": "H9nH2cp9QIb0"
      },
      "execution_count": null,
      "outputs": []
    }
  ]
}